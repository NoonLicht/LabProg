{
 "cells": [
  {
   "cell_type": "markdown",
   "id": "a0db6223",
   "metadata": {},
   "source": [
    "# Holoviews"
   ]
  },
  {
   "cell_type": "code",
   "execution_count": null,
   "id": "59ba1739",
   "metadata": {},
   "outputs": [],
   "source": [
    "!pip install -U --user holoviews datashader"
   ]
  },
  {
   "cell_type": "code",
   "execution_count": null,
   "id": "82ae4a6f",
   "metadata": {},
   "outputs": [],
   "source": [
    "from timeit import timeit\n",
    "import numpy as np\n",
    "from numba import jit, njit, prange\n",
    "\n",
    "import holoviews as hv\n",
    "hv.extension('bokeh')"
   ]
  },
  {
   "cell_type": "markdown",
   "id": "71b7fa65",
   "metadata": {},
   "source": [
    "### Динамическое изображение [множества Мандельброта](https://ru.wikipedia.org/wiki/Множество_Мандельброта)\n",
    "\n",
    "Множество Мандельброта - множество точек $c$ комплексной плоскости, для которых рекуррентное соотношение $z_{n+1} = z_n^2 + c$ при $z_0 = 0$ задает ограниченную последовательность.\n",
    "\n",
    "Цель: построить динамическое изображение множества, позволяющее перемещать и масштабировать видимую область"
   ]
  },
  {
   "cell_type": "code",
   "execution_count": null,
   "id": "902ba87d",
   "metadata": {},
   "outputs": [],
   "source": []
  },
  {
   "cell_type": "markdown",
   "id": "5853dd1f",
   "metadata": {},
   "source": [
    "### Повторить интерактивный рисунок [из видеоролика](https://youtu.be/LqbZpur38nw?t=420)\n",
    "\n",
    "Рисунок состоит из двух частей:\n",
    "- слева расположено изображение множества, аналогичное рассмотренному выше\n",
    "- справа - изображение множества, построенного другим способом: \n",
    "    - теперь в рекуррентном соотношении $z_{n+1} = z_n^2 + c$:\n",
    "        - $z_0$ - точка плоскости справа,\n",
    "        - $c$ - точка, выбранная на изображении слева\n",
    "        \n",
    "Точку $c$ необходимо отобразить слева и подписать её координаты (комплексное число).\n",
    "\n",
    "Какие объекты использовать:\n",
    "- hv.DynamicMap\n",
    "    - параметр `streams` позволяет указать управляющие потоки\n",
    "- hv.streams.PointerXY\n",
    "    - возвращает координаты указателя мыши `x`, `y`\n",
    "    - параметр `source` позволяет связать поток `stream` с динамической картой `DynamicMap`\n",
    "- hv.Text\n",
    "- hv.Points\n",
    "\n",
    "Как создать раскладку `Layout`:\n",
    "- оператор `+` позволяет разместить два объекта рядом (слева-направо)\n",
    "- оператор `*` позволяет наложить один объект поверх другого\n",
    "\n",
    "Настройки раскладки `Layout`:\n",
    "- merge_tools: bool - объединять инструменты \n",
    "- shared_axes=False"
   ]
  },
  {
   "cell_type": "code",
   "execution_count": null,
   "id": "505b86bd",
   "metadata": {},
   "outputs": [],
   "source": []
  }
 ],
 "metadata": {
  "kernelspec": {
   "display_name": "Python 3 (ipykernel)",
   "language": "python",
   "name": "python3"
  },
  "language_info": {
   "codemirror_mode": {
    "name": "ipython",
    "version": 3
   },
   "file_extension": ".py",
   "mimetype": "text/x-python",
   "name": "python",
   "nbconvert_exporter": "python",
   "pygments_lexer": "ipython3",
   "version": "3.9.12"
  }
 },
 "nbformat": 4,
 "nbformat_minor": 5
}
