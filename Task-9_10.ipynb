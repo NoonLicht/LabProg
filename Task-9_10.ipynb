{
 "cells": [
  {
   "cell_type": "markdown",
   "id": "b5a29b6a",
   "metadata": {},
   "source": [
    "## [Математический маятник](https://ru.wikipedia.org/wiki/Математический_маятник)\n",
    "\n",
    "Уравнение движения:\n",
    "\n",
    "$\\ddot \\theta + \\frac{g}{L}\\sin(\\theta) = 0$\n",
    "\n",
    "Без ограничения общности можно рассмотреть безразмерное уравнение:\n",
    "\n",
    "$\\ddot \\theta + \\sin(\\theta) = 0$\n",
    "\n",
    "ОДУ порядка 2 и более можно свести к системе ОДУ первого порядка:\n",
    "\n",
    "$\\dot \\theta = \\omega$\n",
    "\n",
    "$\\dot \\omega = - \\sin(\\theta)$\n",
    "\n",
    "Слева расположены первые производные, а справа - содержимое модели движения. Такое представление является стандартным, поэтому для анализа модели реализуют **правую часть** системы ОДУ как функцию."
   ]
  },
  {
   "cell_type": "markdown",
   "id": "d7590515",
   "metadata": {},
   "source": [
    "### Задание\n",
    "\n",
    "Построить на одном рисунке фазовые портреты для 100 случайных начальных векторов состояния $s = (\\theta, \\omega)$ в квадрате [0, 1] x [1.5, 2.5]"
   ]
  },
  {
   "cell_type": "markdown",
   "id": "0e6c2c00",
   "metadata": {},
   "source": [
    "### Задание\n",
    "\n",
    "Построить график зависимости периода колебаний маятника от начальной скорости $\\omega$ в интервале (0, 2)."
   ]
  },
  {
   "cell_type": "markdown",
   "id": "f6ba2daf",
   "metadata": {},
   "source": [
    "### Задание\n",
    "\n",
    "Построить на одном рисунке фазовые портреты для 100 случайных начальных векторов состояния $s = (\\theta, \\omega)$ в квадрате [0, 1] x [1.5, 2.5] используя **`solout`**"
   ]
  },
  {
   "cell_type": "markdown",
   "id": "e785912b",
   "metadata": {},
   "source": [
    "**Задача**\n",
    "\n",
    "В файле `sample_trajectory.txt` находится табличное представление траектории движения космического аппарата. \n",
    "\n",
    "Столбцы: $t, x, y, z, \\dot x, \\dot y, \\dot z$. Время измеряется в днях, положение - в км, скорость - в км/с.\n",
    "\n",
    "Найти минимальное расстояние от кривой до Земли с координатами $(0, 0, 0)$.\n",
    "\n",
    "Решение, полученное с погрешностью 1e-12: \n",
    "\n",
    "$t = 185.631822567655$\n",
    "\n",
    "$r = 57254.75524794735$"
   ]
  },
  {
   "cell_type": "markdown",
   "id": "bea63a55",
   "metadata": {},
   "source": [
    "### Задание\n",
    "\n",
    "Найти минимальное расстояние, минимизировав функцию расстояния до точки $(0, 0, 0)$. Алгоритм минимизации использовать `scipy.optimize.fminbound`.\n",
    "\n",
    "`fminbound(f, a, b, args, xtol)`, где\n",
    "- f(x, *args) - минимизируемая функция\n",
    "- a, b - отрезок поиска минимума\n",
    "- args - дополнительные параметры функции f\n",
    "- xtol - погрешность по значению аргумента x"
   ]
  },
  {
   "cell_type": "markdown",
   "id": "82c29329",
   "metadata": {},
   "source": [
    "### Задача\n",
    "\n",
    "Наити минимумы поверхности, заданной таблично в файле `sample_surface.txt`.\n",
    "\n",
    "Столбцы `raan, ta, type, rmag, dv`. \n",
    "\n",
    "Поверхность задана как `dv(raan, ta)`.\n",
    "\n",
    "Где столбец `type` == 0, значение `dv` не определено."
   ]
  },
  {
   "cell_type": "code",
   "execution_count": null,
   "id": "ff88dbb0",
   "metadata": {},
   "outputs": [],
   "source": [
    "from scipy.interpolate import RectBivariateSpline"
   ]
  },
  {
   "cell_type": "code",
   "execution_count": null,
   "id": "1a1aaf50",
   "metadata": {},
   "outputs": [],
   "source": [
    "# построение двумерной сплайновой поверхности на прямоугольной сетке\n",
    "spl2d = RectBivariateSpline(dfp.index, dfp.columns, dfp)"
   ]
  },
  {
   "cell_type": "code",
   "execution_count": null,
   "id": "809ccb9e",
   "metadata": {},
   "outputs": [],
   "source": [
    "surf = spl2d(raan, ta)"
   ]
  },
  {
   "cell_type": "code",
   "execution_count": null,
   "id": "7de062c1",
   "metadata": {},
   "outputs": [],
   "source": [
    "from scipy.optimize import minimize"
   ]
  },
  {
   "cell_type": "code",
   "execution_count": null,
   "id": "4292bf9e",
   "metadata": {},
   "outputs": [],
   "source": [
    "def fun(x, spl):\n",
    "    return spl(x[1], x[0])[0, 0]"
   ]
  },
  {
   "cell_type": "markdown",
   "id": "52c77c26",
   "metadata": {},
   "source": [
    "### Задание\n",
    "\n",
    "Модифицировать функцию `fun` так, чтобы координаты, которые она передает в `spl`, всегда находились на отрезке $[0, 360]$. Найти локальный минимум `spl2d`, взяв за начальное приближение $(120, 10)$. Отобразить найденный минимум поверх цветовой карты."
   ]
  },
  {
   "cell_type": "markdown",
   "id": "bf8bc3af",
   "metadata": {},
   "source": [
    "### Задание\n",
    "\n",
    "Написать функцию `jac`, которая будет рассчитывать Якобиан `spl` в точке `x`. Использовать функцию для ускорения расчета минимума `spl2d` и сравнить время поиска минимума в обоих случаях."
   ]
  },
  {
   "cell_type": "code",
   "execution_count": null,
   "id": "2dfa0a9f",
   "metadata": {},
   "outputs": [],
   "source": []
  }
 ],
 "metadata": {
  "kernelspec": {
   "display_name": "Python 3 (ipykernel)",
   "language": "python",
   "name": "python3"
  },
  "language_info": {
   "codemirror_mode": {
    "name": "ipython",
    "version": 3
   },
   "file_extension": ".py",
   "mimetype": "text/x-python",
   "name": "python",
   "nbconvert_exporter": "python",
   "pygments_lexer": "ipython3",
   "version": "3.9.12"
  }
 },
 "nbformat": 4,
 "nbformat_minor": 5
}
